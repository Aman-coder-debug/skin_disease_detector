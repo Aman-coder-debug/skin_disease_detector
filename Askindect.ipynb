{
  "nbformat": 4,
  "nbformat_minor": 0,
  "metadata": {
    "colab": {
      "provenance": [],
      "authorship_tag": "ABX9TyOAuRjtEwHN5cGVhAmZvGXO",
      "include_colab_link": true
    },
    "kernelspec": {
      "name": "python3",
      "display_name": "Python 3"
    },
    "language_info": {
      "name": "python"
    }
  },
  "cells": [
    {
      "cell_type": "markdown",
      "metadata": {
        "id": "view-in-github",
        "colab_type": "text"
      },
      "source": [
        "<a href=\"https://colab.research.google.com/github/Aman-coder-debug/skin_disease_detector/blob/main/Askindect.ipynb\" target=\"_parent\"><img src=\"https://colab.research.google.com/assets/colab-badge.svg\" alt=\"Open In Colab\"/></a>"
      ]
    },
    {
      "cell_type": "code",
      "execution_count": 1,
      "metadata": {
        "colab": {
          "base_uri": "https://localhost:8080/",
          "height": 1000
        },
        "id": "-fiXJhOgTz7W",
        "outputId": "108d0f9d-e9d0-4c4b-93f4-a4532e4cee50"
      },
      "outputs": [
        {
          "output_type": "stream",
          "name": "stdout",
          "text": [
            "\u001b[2K   \u001b[90m━━━━━━━━━━━━━━━━━━━━━━━━━━━━━━━━━━━━━━━━\u001b[0m \u001b[32m54.2/54.2 MB\u001b[0m \u001b[31m9.0 MB/s\u001b[0m eta \u001b[36m0:00:00\u001b[0m\n",
            "\u001b[2K   \u001b[90m━━━━━━━━━━━━━━━━━━━━━━━━━━━━━━━━━━━━━━━━\u001b[0m \u001b[32m323.1/323.1 kB\u001b[0m \u001b[31m5.1 MB/s\u001b[0m eta \u001b[36m0:00:00\u001b[0m\n",
            "\u001b[2K   \u001b[90m━━━━━━━━━━━━━━━━━━━━━━━━━━━━━━━━━━━━━━━━\u001b[0m \u001b[32m95.2/95.2 kB\u001b[0m \u001b[31m1.7 MB/s\u001b[0m eta \u001b[36m0:00:00\u001b[0m\n",
            "\u001b[2K   \u001b[90m━━━━━━━━━━━━━━━━━━━━━━━━━━━━━━━━━━━━━━━━\u001b[0m \u001b[32m11.5/11.5 MB\u001b[0m \u001b[31m25.3 MB/s\u001b[0m eta \u001b[36m0:00:00\u001b[0m\n",
            "\u001b[2K   \u001b[90m━━━━━━━━━━━━━━━━━━━━━━━━━━━━━━━━━━━━━━━━\u001b[0m \u001b[32m72.0/72.0 kB\u001b[0m \u001b[31m4.7 MB/s\u001b[0m eta \u001b[36m0:00:00\u001b[0m\n",
            "\u001b[2K   \u001b[90m━━━━━━━━━━━━━━━━━━━━━━━━━━━━━━━━━━━━━━━━\u001b[0m \u001b[32m62.5/62.5 kB\u001b[0m \u001b[31m3.6 MB/s\u001b[0m eta \u001b[36m0:00:00\u001b[0m\n",
            "\u001b[?25h"
          ]
        },
        {
          "output_type": "stream",
          "name": "stderr",
          "text": [
            "Downloading...\n",
            "From (original): https://drive.google.com/uc?id=11lS4A06C4-3kiwbfya7o8072ymyaoWn9\n",
            "From (redirected): https://drive.google.com/uc?id=11lS4A06C4-3kiwbfya7o8072ymyaoWn9&confirm=t&uuid=0f01751d-07f8-49e4-b464-5d9d00e7c8b6\n",
            "To: /content/skin_dataset.zip\n",
            "100%|██████████| 27.5M/27.5M [00:00<00:00, 45.6MB/s]\n",
            "/usr/local/lib/python3.11/dist-packages/keras/src/layers/convolutional/base_conv.py:107: UserWarning: Do not pass an `input_shape`/`input_dim` argument to a layer. When using Sequential models, prefer using an `Input(shape)` object as the first layer in the model instead.\n",
            "  super().__init__(activity_regularizer=activity_regularizer, **kwargs)\n"
          ]
        },
        {
          "output_type": "stream",
          "name": "stdout",
          "text": [
            "Epoch 1/5\n",
            "\u001b[1m113/113\u001b[0m \u001b[32m━━━━━━━━━━━━━━━━━━━━\u001b[0m\u001b[37m\u001b[0m \u001b[1m10s\u001b[0m 74ms/step - accuracy: 0.6490 - loss: 1.2079 - val_accuracy: 0.6958 - val_loss: 0.9300\n",
            "Epoch 2/5\n",
            "\u001b[1m113/113\u001b[0m \u001b[32m━━━━━━━━━━━━━━━━━━━━\u001b[0m\u001b[37m\u001b[0m \u001b[1m7s\u001b[0m 57ms/step - accuracy: 0.6668 - loss: 0.9947 - val_accuracy: 0.6883 - val_loss: 0.8709\n",
            "Epoch 3/5\n",
            "\u001b[1m113/113\u001b[0m \u001b[32m━━━━━━━━━━━━━━━━━━━━\u001b[0m\u001b[37m\u001b[0m \u001b[1m10s\u001b[0m 58ms/step - accuracy: 0.6716 - loss: 0.9381 - val_accuracy: 0.6958 - val_loss: 0.8191\n",
            "Epoch 4/5\n",
            "\u001b[1m113/113\u001b[0m \u001b[32m━━━━━━━━━━━━━━━━━━━━\u001b[0m\u001b[37m\u001b[0m \u001b[1m8s\u001b[0m 71ms/step - accuracy: 0.6769 - loss: 0.9078 - val_accuracy: 0.7020 - val_loss: 0.7992\n",
            "Epoch 5/5\n",
            "\u001b[1m113/113\u001b[0m \u001b[32m━━━━━━━━━━━━━━━━━━━━\u001b[0m\u001b[37m\u001b[0m \u001b[1m7s\u001b[0m 59ms/step - accuracy: 0.6874 - loss: 0.8707 - val_accuracy: 0.7070 - val_loss: 0.8310\n",
            "It looks like you are running Gradio on a hosted a Jupyter notebook. For the Gradio app to work, sharing must be enabled. Automatically setting `share=True` (you can turn this off by setting `share=False` in `launch()` explicitly).\n",
            "\n",
            "Colab notebook detected. To show errors in colab notebook, set debug=True in launch()\n",
            "* Running on public URL: https://3278aadaa4c85b4b7e.gradio.live\n",
            "\n",
            "This share link expires in 1 week. For free permanent hosting and GPU upgrades, run `gradio deploy` from the terminal in the working directory to deploy to Hugging Face Spaces (https://huggingface.co/spaces)\n"
          ]
        },
        {
          "output_type": "display_data",
          "data": {
            "text/plain": [
              "<IPython.core.display.HTML object>"
            ],
            "text/html": [
              "<div><iframe src=\"https://3278aadaa4c85b4b7e.gradio.live\" width=\"100%\" height=\"500\" allow=\"autoplay; camera; microphone; clipboard-read; clipboard-write;\" frameborder=\"0\" allowfullscreen></iframe></div>"
            ]
          },
          "metadata": {}
        },
        {
          "output_type": "execute_result",
          "data": {
            "text/plain": []
          },
          "metadata": {},
          "execution_count": 1
        }
      ],
      "source": [
        "# ✅ Install required packages\n",
        "!pip install -q gdown gradio tensorflow\n",
        "\n",
        "# ✅ Download ZIP file from Google Drive\n",
        "import gdown\n",
        "zip_file_id = \"11lS4A06C4-3kiwbfya7o8072ymyaoWn9\"\n",
        "gdown.download(f\"https://drive.google.com/uc?id={zip_file_id}\", \"skin_dataset.zip\", quiet=False)\n",
        "\n",
        "# ✅ Unzip the downloaded file\n",
        "import zipfile\n",
        "with zipfile.ZipFile(\"skin_dataset.zip\", \"r\") as zip_ref:\n",
        "    zip_ref.extractall(\"skin_data\")\n",
        "\n",
        "# ✅ Load the extracted CSV\n",
        "import pandas as pd\n",
        "import numpy as np\n",
        "from sklearn.model_selection import train_test_split\n",
        "from tensorflow.keras.utils import to_categorical\n",
        "\n",
        "csv_path = \"skin_data/hmnist_28_28_RGB.csv\"  # Adjust if inside a folder\n",
        "df = pd.read_csv(csv_path)\n",
        "\n",
        "X = df.drop('label', axis=1).values\n",
        "y = df['label'].values\n",
        "\n",
        "# ✅ Preprocess image and labels\n",
        "X = X.reshape(-1, 28, 28, 3).astype('float32') / 255.0\n",
        "y = to_categorical(y, num_classes=7)\n",
        "\n",
        "X_train, X_test, y_train, y_test = train_test_split(X, y, test_size=0.2, random_state=42)\n",
        "\n",
        "# ✅ Build CNN Model\n",
        "from tensorflow.keras.models import Sequential\n",
        "from tensorflow.keras.layers import Conv2D, MaxPooling2D, Flatten, Dense, Dropout\n",
        "\n",
        "model = Sequential([\n",
        "    Conv2D(32, (3, 3), activation='relu', input_shape=(28, 28, 3)),\n",
        "    MaxPooling2D(2, 2),\n",
        "    Conv2D(64, (3, 3), activation='relu'),\n",
        "    MaxPooling2D(2, 2),\n",
        "    Flatten(),\n",
        "    Dense(128, activation='relu'),\n",
        "    Dropout(0.3),\n",
        "    Dense(7, activation='softmax')\n",
        "])\n",
        "\n",
        "model.compile(optimizer='adam', loss='categorical_crossentropy', metrics=['accuracy'])\n",
        "model.fit(X_train, y_train, epochs=5, batch_size=64, validation_split=0.1)\n",
        "\n",
        "# ✅ Gradio Interface\n",
        "import gradio as gr\n",
        "from PIL import Image\n",
        "\n",
        "class_names = [\n",
        "    \"Actinic keratoses\", \"Basal cell carcinoma\", \"Benign keratosis-like lesions\",\n",
        "    \"Dermatofibroma\", \"Melanocytic nevi\", \"Vascular lesions\", \"Melanoma\"\n",
        "]\n",
        "\n",
        "precautions = {\n",
        "    0: \"Use sunscreen, avoid direct sunlight between 10am-4pm.\",\n",
        "    1: \"Visit dermatologist. Early removal often helps.\",\n",
        "    2: \"Monitor for changes, moisturize skin regularly.\",\n",
        "    3: \"Usually harmless but monitor growth.\",\n",
        "    4: \"Usually benign. Still, monitor for any color/size changes.\",\n",
        "    5: \"Seek immediate medical advice.\",\n",
        "    6: \"High risk. See an oncologist or skin specialist immediately.\"\n",
        "}\n",
        "\n",
        "def predict_image(img):\n",
        "    img = img.resize((28, 28)).convert('RGB')\n",
        "    img = np.array(img).reshape(1, 28, 28, 3).astype('float32') / 255.0\n",
        "    pred = model.predict(img)[0]\n",
        "    class_idx = np.argmax(pred)\n",
        "    return {\n",
        "        \"Prediction\": class_names[class_idx],\n",
        "        \"Precaution\": precautions[class_idx]\n",
        "    }\n",
        "\n",
        "iface = gr.Interface(\n",
        "    fn=predict_image,\n",
        "    inputs=gr.Image(type=\"pil\", label=\"Upload Skin Image\"),\n",
        "    outputs=[\n",
        "        gr.Textbox(label=\"Predicted Disease\"),\n",
        "        gr.Textbox(label=\"Suggested Precaution\")\n",
        "    ],\n",
        "    title=\"Askindect - Skin Disease Predictor\",\n",
        "    description=\"Upload a 28x28 RGB skin lesion image to get a prediction and safety tips.\"\n",
        ")\n",
        "\n",
        "iface.launch()\n"
      ]
    }
  ]
}